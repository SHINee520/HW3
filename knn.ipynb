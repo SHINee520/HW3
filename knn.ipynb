{
 "cells": [
  {
   "cell_type": "code",
   "execution_count": 2,
   "source": [
    "import csv\n",
    "import os\n",
    "import pandas as pd"
   ],
   "outputs": [],
   "metadata": {}
  },
  {
   "cell_type": "code",
   "execution_count": 32,
   "source": [
    "df = pd.read_csv('movie.csv')[0:1]\n",
    "print(df)\n",
    "print('--------------')\n",
    "df['key']=df['中文名稱'].astype(str)+df['類型'].astype(str)+df['簡介']\n",
    "df\n"
   ],
   "outputs": [
    {
     "output_type": "stream",
     "name": "stdout",
     "text": [
      "   Unnamed: 0        中文名稱                       英文名稱        上映日期      類型  \\\n",
      "0           0  小小兵2：格魯的崛起  Minions: The Rise of Guru  2022-07-01  動畫動作喜劇   \n",
      "\n",
      "                                                  簡介  \n",
      "0  今年暑假，影史最賣座的動畫電影系列之一和風靡全球的現象，即將帶來關於一個12歲小男孩的故事，...  \n",
      "--------------\n"
     ]
    },
    {
     "output_type": "execute_result",
     "data": {
      "text/plain": [
       "   Unnamed: 0        中文名稱                       英文名稱        上映日期      類型  \\\n",
       "0           0  小小兵2：格魯的崛起  Minions: The Rise of Guru  2022-07-01  動畫動作喜劇   \n",
       "\n",
       "                                                  簡介  \\\n",
       "0  今年暑假，影史最賣座的動畫電影系列之一和風靡全球的現象，即將帶來關於一個12歲小男孩的故事，...   \n",
       "\n",
       "                                                 key  \n",
       "0  小小兵2：格魯的崛起動畫動作喜劇今年暑假，影史最賣座的動畫電影系列之一和風靡全球的現象，即將...  "
      ],
      "text/html": [
       "<div>\n",
       "<style scoped>\n",
       "    .dataframe tbody tr th:only-of-type {\n",
       "        vertical-align: middle;\n",
       "    }\n",
       "\n",
       "    .dataframe tbody tr th {\n",
       "        vertical-align: top;\n",
       "    }\n",
       "\n",
       "    .dataframe thead th {\n",
       "        text-align: right;\n",
       "    }\n",
       "</style>\n",
       "<table border=\"1\" class=\"dataframe\">\n",
       "  <thead>\n",
       "    <tr style=\"text-align: right;\">\n",
       "      <th></th>\n",
       "      <th>Unnamed: 0</th>\n",
       "      <th>中文名稱</th>\n",
       "      <th>英文名稱</th>\n",
       "      <th>上映日期</th>\n",
       "      <th>類型</th>\n",
       "      <th>簡介</th>\n",
       "      <th>key</th>\n",
       "    </tr>\n",
       "  </thead>\n",
       "  <tbody>\n",
       "    <tr>\n",
       "      <th>0</th>\n",
       "      <td>0</td>\n",
       "      <td>小小兵2：格魯的崛起</td>\n",
       "      <td>Minions: The Rise of Guru</td>\n",
       "      <td>2022-07-01</td>\n",
       "      <td>動畫動作喜劇</td>\n",
       "      <td>今年暑假，影史最賣座的動畫電影系列之一和風靡全球的現象，即將帶來關於一個12歲小男孩的故事，...</td>\n",
       "      <td>小小兵2：格魯的崛起動畫動作喜劇今年暑假，影史最賣座的動畫電影系列之一和風靡全球的現象，即將...</td>\n",
       "    </tr>\n",
       "  </tbody>\n",
       "</table>\n",
       "</div>"
      ]
     },
     "metadata": {},
     "execution_count": 32
    }
   ],
   "metadata": {}
  },
  {
   "cell_type": "code",
   "execution_count": 26,
   "source": [
    "import pandas as pd\n",
    "df1 = pd.DataFrame([['Snow','2',22],['Tyrion','2',32],['Sansa','0',18],['Arya','0',14]], columns=['name','gender','age'])\n",
    "\n",
    "print(\"--------更换单个值----------\")\n",
    "# loc和iloc 可以更换单行、单列、多行、多列的值\n",
    "df1.loc[0,'age']=25      # 思路：先用loc找到要更改的值，再用赋值（=）的方法实现更换值\n",
    "df1.iloc[0,2]=25         # iloc：用索引位置来查找\n",
    "\n",
    "# at 、iat只能更换单个值\n",
    "df1.at[0,'age']=25      # iat 用来取某个单值,参数只能用数字索引\n",
    "df1.iat[0,2]=25         # at 用来取某个单值,参数只能用index和columns索引名称\n",
    "print(df1)\n",
    "\n",
    "df1['score']=df1['age'].astype(str)+df1['gender'].astype(str)\n",
    "print(df1)"
   ],
   "outputs": [
    {
     "output_type": "stream",
     "name": "stdout",
     "text": [
      "--------更换单个值----------\n",
      "     name gender  age\n",
      "0    Snow      2   25\n",
      "1  Tyrion      2   32\n",
      "2   Sansa      0   18\n",
      "3    Arya      0   14\n",
      "     name gender  age score\n",
      "0    Snow      2   25   252\n",
      "1  Tyrion      2   32   322\n",
      "2   Sansa      0   18   180\n",
      "3    Arya      0   14   140\n"
     ]
    }
   ],
   "metadata": {}
  },
  {
   "cell_type": "code",
   "execution_count": null,
   "source": [],
   "outputs": [],
   "metadata": {}
  }
 ],
 "metadata": {
  "orig_nbformat": 4,
  "language_info": {
   "name": "python",
   "version": "3.9.5",
   "mimetype": "text/x-python",
   "codemirror_mode": {
    "name": "ipython",
    "version": 3
   },
   "pygments_lexer": "ipython3",
   "nbconvert_exporter": "python",
   "file_extension": ".py"
  },
  "kernelspec": {
   "name": "python3",
   "display_name": "Python 3.9.5 64-bit"
  },
  "interpreter": {
   "hash": "aee8b7b246df8f9039afb4144a1f6fd8d2ca17a180786b69acc140d282b71a49"
  }
 },
 "nbformat": 4,
 "nbformat_minor": 2
}